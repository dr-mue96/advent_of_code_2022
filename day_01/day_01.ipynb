{
 "cells": [
  {
   "cell_type": "code",
   "execution_count": 1,
   "id": "fdd281f0",
   "metadata": {},
   "outputs": [],
   "source": [
    "import pandas as pd"
   ]
  },
  {
   "cell_type": "code",
   "execution_count": 2,
   "id": "9ce44812",
   "metadata": {},
   "outputs": [],
   "source": [
    "input = pd.read_csv('input.csv', delimiter=' ', skip_blank_lines=False, header=None).squeeze()"
   ]
  },
  {
   "cell_type": "code",
   "execution_count": 3,
   "id": "f0c50968",
   "metadata": {},
   "outputs": [],
   "source": [
    "calories_per_elf = []\n",
    "calories = 0\n",
    "for i in input:\n",
    "    if i > 0:\n",
    "        calories += i\n",
    "    else:\n",
    "        calories_per_elf.append(calories)\n",
    "        calories = 0"
   ]
  },
  {
   "cell_type": "code",
   "execution_count": 4,
   "id": "f2889d1f",
   "metadata": {},
   "outputs": [
    {
     "name": "stdout",
     "output_type": "stream",
     "text": [
      "Elf with most calories: 65912.0\n"
     ]
    }
   ],
   "source": [
    "print('Elf with most calories:', max(calories_per_elf))"
   ]
  },
  {
   "cell_type": "code",
   "execution_count": 5,
   "id": "08b92939",
   "metadata": {},
   "outputs": [
    {
     "name": "stdout",
     "output_type": "stream",
     "text": [
      "Sum of the three elves with most calorires: 195625.0\n"
     ]
    }
   ],
   "source": [
    "print('Sum of the three elves with most calorires:', sum(sorted(calories_per_elf, reverse=True)[:3]))"
   ]
  },
  {
   "cell_type": "code",
   "execution_count": null,
   "id": "88f642f2",
   "metadata": {},
   "outputs": [],
   "source": []
  },
  {
   "cell_type": "code",
   "execution_count": null,
   "id": "6b4f01a4",
   "metadata": {},
   "outputs": [],
   "source": []
  }
 ],
 "metadata": {
  "kernelspec": {
   "display_name": "Python 3 (ipykernel)",
   "language": "python",
   "name": "python3"
  },
  "language_info": {
   "codemirror_mode": {
    "name": "ipython",
    "version": 3
   },
   "file_extension": ".py",
   "mimetype": "text/x-python",
   "name": "python",
   "nbconvert_exporter": "python",
   "pygments_lexer": "ipython3",
   "version": "3.8.10"
  }
 },
 "nbformat": 4,
 "nbformat_minor": 5
}
